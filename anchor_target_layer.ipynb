{
 "cells": [
  {
   "cell_type": "code",
   "execution_count": 1,
   "metadata": {
    "collapsed": false
   },
   "outputs": [],
   "source": [
    "# --------------------------------------------------------  \n",
    "# Faster R-CNN  \n",
    "# Copyright (c) 2015 Microsoft  \n",
    "# Licensed under The MIT License [see LICENSE for details]  \n",
    "# Written by Ross Girshick and Sean Bell  \n",
    "# --------------------------------------------------------  \n",
    "# caffe_root =\"/home/lqp/py-faster-rcnn/caffe-fast-rcnn/\"\n",
    "# import sys\n",
    "# sys.path.insert(0,caffe_root+\"python\")\n",
    "import os  \n",
    "import caffe  \n",
    "import yaml  \n",
    "from fast_rcnn.config import cfg  \n",
    "import numpy as np  \n",
    "import numpy.random as npr  \n",
    "from generate_anchors import generate_anchors  \n",
    "from utils.cython_bbox import bbox_overlaps  \n",
    "from fast_rcnn.bbox_transform import bbox_transform  \n",
    "  \n",
    "DEBUG = False  \n",
    "  \n",
    "class AnchorTargetLayer(caffe.Layer):  \n",
    "    \"\"\" \n",
    "    Assign anchors to ground-truth targets. Produces anchor classification \n",
    "    labels and bounding-box regression targets. \n",
    "    \"\"\"  \n",
    "  \n",
    "    def setup(self, bottom, top):  \n",
    "        layer_params = yaml.load(self.param_str_)  \n",
    "        anchor_scales = layer_params.get('scales', (8, 16, 32))  \n",
    "        self._anchors = generate_anchors(scales=np.array(anchor_scales))#九个anchor的w h x_cstr y_cstr，对原始的wh做横向纵向变化，并放大缩小得到九个  \n",
    "        self._num_anchors = self._anchors.shape[0]#anchor的个数</span>  \n",
    "        self._feat_stride = layer_params['feat_stride']#网络中参数16  \n",
    "  \n",
    "        if DEBUG:  \n",
    "            print 'anchors:'  \n",
    "            print self._anchors  \n",
    "            print 'anchor shapes:'  \n",
    "            print np.hstack((  \n",
    "                self._anchors[:, 2::4] - self._anchors[:, 0::4],  \n",
    "                self._anchors[:, 3::4] - self._anchors[:, 1::4],  \n",
    "            ))  \n",
    "            self._counts = cfg.EPS  \n",
    "            self._sums = np.zeros((1, 4))  \n",
    "            self._squared_sums = np.zeros((1, 4))  \n",
    "            self._fg_sum = 0  \n",
    "            self._bg_sum = 0  \n",
    "            self._count = 0  \n",
    "  \n",
    "        # allow boxes to sit over the edge by a small amount  \n",
    "        self._allowed_border = layer_params.get('allowed_border', 0)  \n",
    "        #bottom 长度为4；bottom[0],map；bottom[1],boxes,labels;bottom[2],im_fo;bottom[3],图片数据  \n",
    "        height, width = bottom[0].data.shape[-2:]  \n",
    "        if DEBUG:  \n",
    "            print 'AnchorTargetLayer: height', height, 'width', width  \n",
    "  \n",
    "        A = self._num_anchors#anchor的个数  \n",
    "        # labels  \n",
    "        top[0].reshape(1, 1, A * height, width)  \n",
    "        # bbox_targets  \n",
    "        top[1].reshape(1, A * 4, height, width)  \n",
    "        # bbox_inside_weights  \n",
    "        top[2].reshape(1, A * 4, height, width)  \n",
    "        # bbox_outside_weights  \n",
    "        top[3].reshape(1, A * 4, height, width)  \n",
    "  \n",
    "    def forward(self, bottom, top):  \n",
    "        # Algorithm:  \n",
    "        #  \n",
    "        # for each (H, W) location i  \n",
    "        #   generate 9 anchor boxes centered on cell i  \n",
    "        #   apply predicted bbox deltas at cell i to each of the 9 anchors  \n",
    "        # filter out-of-image anchors  \n",
    "        # measure GT overlap  \n",
    "  \n",
    "        assert bottom[0].data.shape[0] == 1,\\\n",
    "            'Only single item batches are supported'  \n",
    "  \n",
    "        # map of shape (..., H, W)  \n",
    "        height, width = bottom[0].data.shape[-2:]  \n",
    "        # GT boxes (x1, y1, x2, y2, label)  \n",
    "        gt_boxes = bottom[1].data#gt_boxes:长度不定  \n",
    "        # im_info  \n",
    "        im_info = bottom[2].data[0, :]  \n",
    "  \n",
    "        if DEBUG:  \n",
    "            print ''  \n",
    "            print 'im_size: ({}, {})'.format(im_info[0], im_info[1])  \n",
    "            print 'scale: {}'.format(im_info[2])  \n",
    "            print 'height, width: ({}, {})'.format(height, width)  \n",
    "            print 'rpn: gt_boxes.shape', gt_boxes.shape  \n",
    "            print 'rpn: gt_boxes', gt_boxes  \n",
    "  \n",
    "        # 1. Generate proposals from bbox deltas and shifted anchors  \n",
    "        shift_x = np.arange(0, width) * self._feat_stride  \n",
    "        shift_y = np.arange(0, height) * self._feat_stride  \n",
    "        shift_x, shift_y = np.meshgrid(shift_x, shift_y)  \n",
    "        shifts = np.vstack((shift_x.ravel(), shift_y.ravel(),  \n",
    "                            shift_x.ravel(), shift_y.ravel())).transpose()  \n",
    "        # add A anchors (1, A, 4) to  \n",
    "        # cell K shifts (K, 1, 4) to get  \n",
    "        # shift anchors (K, A, 4)  \n",
    "        # reshape to (K*A, 4) shifted anchors  \n",
    "        A = self._num_anchors  \n",
    "        K = shifts.shape[0]  \n",
    "        all_anchors = (self._anchors.reshape((1, A, 4)) +  \n",
    "                       shifts.reshape((1, K, 4)).transpose((1, 0, 2)))  \n",
    "        all_anchors = all_anchors.reshape((K * A, 4))  \n",
    "        total_anchors = int(K * A)#K*A，所有anchors个数，包括越界的  \n",
    "        #K: width*height  \n",
    "        #A: 9  \n",
    "        # only keep anchors inside the image  \n",
    "        inds_inside = np.where(  \n",
    "            (all_anchors[:, 0] >= -self._allowed_border) &  \n",
    "            (all_anchors[:, 1] >= -self._allowed_border) &  \n",
    "            (all_anchors[:, 2] < im_info[1] + self._allowed_border) &  # width  \n",
    "            (all_anchors[:, 3] < im_info[0] + self._allowed_border)    # height  \n",
    "        )[0]#没有过界的anchors索引  \n",
    "  \n",
    "        if DEBUG:  \n",
    "            print 'total_anchors', total_anchors  \n",
    "            print 'inds_inside', len(inds_inside)  \n",
    "  \n",
    "        # keep only inside anchors  \n",
    "        anchors = all_anchors[inds_inside, :]#没有过界的anchors  \n",
    "        if DEBUG:  \n",
    "            print 'anchors.shape', anchors.shape  \n",
    "  \n",
    "        # label: 1 is positive, 0 is negative, -1 is dont care  \n",
    "        labels = np.empty((len(inds_inside), ), dtype=np.float32)  \n",
    "        labels.fill(-1)  \n",
    "  \n",
    "        # overlaps between the anchors and the gt boxes  \n",
    "        # overlaps (ex, gt)  \n",
    "        overlaps = bbox_overlaps(  \n",
    "            np.ascontiguousarray(anchors, dtype=np.float),  \n",
    "            np.ascontiguousarray(gt_boxes, dtype=np.float))  \n",
    "        argmax_overlaps = overlaps.argmax(axis=1)#overlaps每行最大值索引  \n",
    "        max_overlaps = overlaps[np.arange(len(inds_inside)), argmax_overlaps]  \n",
    "        gt_argmax_overlaps = overlaps.argmax(axis=0)  \n",
    "        gt_max_overlaps = overlaps[gt_argmax_overlaps,  \n",
    "                                   np.arange(overlaps.shape[1])]  \n",
    "        gt_argmax_overlaps = np.where(overlaps == gt_max_overlaps)[0]  \n",
    "  \n",
    "        if not cfg.TRAIN.RPN_CLOBBER_POSITIVES:  \n",
    "            # assign bg labels first so that positive labels can clobber them  \n",
    "            labels[max_overlaps < cfg.TRAIN.RPN_NEGATIVE_OVERLAP] = 0  \n",
    "  \n",
    "        # fg label: for each gt, anchor with highest overlap  \n",
    "        labels[gt_argmax_overlaps] = 1  \n",
    "  \n",
    "        # fg label: above threshold IOU  \n",
    "        labels[max_overlaps >= cfg.TRAIN.RPN_POSITIVE_OVERLAP] = 1  \n",
    "  \n",
    "        if cfg.TRAIN.RPN_CLOBBER_POSITIVES:  \n",
    "            # assign bg labels last so that negative labels can clobber positives  \n",
    "            labels[max_overlaps < cfg.TRAIN.RPN_NEGATIVE_OVERLAP] = 0  \n",
    "  \n",
    "        # subsample positive labels if we have too many  \n",
    "        num_fg = int(cfg.TRAIN.RPN_FG_FRACTION * cfg.TRAIN.RPN_BATCHSIZE)  \n",
    "        fg_inds = np.where(labels == 1)[0]  \n",
    "        if len(fg_inds) > num_fg:  \n",
    "            disable_inds = npr.choice(  \n",
    "                fg_inds, size=(len(fg_inds) - num_fg), replace=False)  \n",
    "            labels[disable_inds] = -1  \n",
    "  \n",
    "        # subsample negative labels if we have too many  \n",
    "        num_bg = cfg.TRAIN.RPN_BATCHSIZE - np.sum(labels == 1)  \n",
    "        bg_inds = np.where(labels == 0)[0]  \n",
    "        if len(bg_inds) > num_bg:  \n",
    "            disable_inds = npr.choice(  \n",
    "                bg_inds, size=(len(bg_inds) - num_bg), replace=False)  \n",
    "            labels[disable_inds] = -1  \n",
    "            #print \"was %s inds, disabling %s, now %s inds\" % (  \n",
    "                #len(bg_inds), len(disable_inds), np.sum(labels == 0))  \n",
    "  \n",
    "        bbox_targets = np.zeros((len(inds_inside), 4), dtype=np.float32)  \n",
    "        bbox_targets = _compute_targets(anchors, gt_boxes[argmax_overlaps, :])  \n",
    "  \n",
    "        bbox_inside_weights = np.zeros((len(inds_inside), 4), dtype=np.float32)  \n",
    "        bbox_inside_weights[labels == 1, :] = np.array(cfg.TRAIN.RPN_BBOX_INSIDE_WEIGHTS)  \n",
    "  \n",
    "        bbox_outside_weights = np.zeros((len(inds_inside), 4), dtype=np.float32)  \n",
    "        if cfg.TRAIN.RPN_POSITIVE_WEIGHT < 0:  \n",
    "            # uniform weighting of examples (given non-uniform sampling)  \n",
    "            num_examples = np.sum(labels >= 0)  \n",
    "            positive_weights = np.ones((1, 4)) * 1.0 / num_examples  \n",
    "            negative_weights = np.ones((1, 4)) * 1.0 / num_examples  \n",
    "        else:  \n",
    "            assert ((cfg.TRAIN.RPN_POSITIVE_WEIGHT > 0) &  \n",
    "                    (cfg.TRAIN.RPN_POSITIVE_WEIGHT < 1))  \n",
    "            positive_weights = (cfg.TRAIN.RPN_POSITIVE_WEIGHT /  \n",
    "                                np.sum(labels == 1))  \n",
    "            negative_weights = ((1.0 - cfg.TRAIN.RPN_POSITIVE_WEIGHT) /  \n",
    "                                np.sum(labels == 0))  \n",
    "        bbox_outside_weights[labels == 1, :] = positive_weights  \n",
    "        bbox_outside_weights[labels == 0, :] = negative_weights  \n",
    "  \n",
    "        if DEBUG:  \n",
    "            self._sums += bbox_targets[labels == 1, :].sum(axis=0)  \n",
    "            self._squared_sums += (bbox_targets[labels == 1, :] ** 2).sum(axis=0)  \n",
    "            self._counts += np.sum(labels == 1)  \n",
    "            means = self._sums / self._counts  \n",
    "            stds = np.sqrt(self._squared_sums / self._counts - means ** 2)  \n",
    "            print 'means:'  \n",
    "            print means  \n",
    "            print 'stdevs:'  \n",
    "            print stds  \n",
    "  \n",
    "        # map up to original set of anchors  \n",
    "        labels = _unmap(labels, total_anchors, inds_inside, fill=-1)  \n",
    "        bbox_targets = _unmap(bbox_targets, total_anchors, inds_inside, fill=0)  \n",
    "        bbox_inside_weights = _unmap(bbox_inside_weights, total_anchors, inds_inside, fill=0)  \n",
    "        bbox_outside_weights = _unmap(bbox_outside_weights, total_anchors, inds_inside, fill=0)  \n",
    "  \n",
    "        if DEBUG:  \n",
    "            print 'rpn: max max_overlap', np.max(max_overlaps)  \n",
    "            print 'rpn: num_positive', np.sum(labels == 1)  \n",
    "            print 'rpn: num_negative', np.sum(labels == 0)  \n",
    "            self._fg_sum += np.sum(labels == 1)  \n",
    "            self._bg_sum += np.sum(labels == 0)  \n",
    "            self._count += 1  \n",
    "            print 'rpn: num_positive avg', self._fg_sum / self._count  \n",
    "            print 'rpn: num_negative avg', self._bg_sum / self._count  \n",
    "  \n",
    "        # labels  \n",
    "        labels = labels.reshape((1, height, width, A)).transpose(0, 3, 1, 2)  \n",
    "        labels = labels.reshape((1, 1, A * height, width))  \n",
    "        top[0].reshape(*labels.shape)  \n",
    "        top[0].data[...] = labels  \n",
    "  \n",
    "        # bbox_targets  \n",
    "        bbox_targets = bbox_targets \\\n",
    "            .reshape((1, height, width, A * 4)).transpose(0, 3, 1, 2)  \n",
    "        top[1].reshape(*bbox_targets.shape)  \n",
    "        top[1].data[...] = bbox_targets  \n",
    "  \n",
    "        # bbox_inside_weights  \n",
    "        bbox_inside_weights = bbox_inside_weights \\\n",
    "            .reshape((1, height, width, A * 4)).transpose(0, 3, 1, 2)  \n",
    "        assert bbox_inside_weights.shape[2] == height  \n",
    "        assert bbox_inside_weights.shape[3] == width  \n",
    "        top[2].reshape(*bbox_inside_weights.shape)  \n",
    "        top[2].data[...] = bbox_inside_weights  \n",
    "  \n",
    "        # bbox_outside_weights  \n",
    "        bbox_outside_weights = bbox_outside_weights \\\n",
    "            .reshape((1, height, width, A * 4)).transpose(0, 3, 1, 2)  \n",
    "        assert bbox_outside_weights.shape[2] == height  \n",
    "        assert bbox_outside_weights.shape[3] == width  \n",
    "        top[3].reshape(*bbox_outside_weights.shape)  \n",
    "        top[3].data[...] = bbox_outside_weights  \n",
    "  \n",
    "    def backward(self, top, propagate_down, bottom):  \n",
    "        \"\"\"This layer does not propagate gradients.\"\"\"  \n",
    "        pass  \n",
    "  \n",
    "    def reshape(self, bottom, top):  \n",
    "        \"\"\"Reshaping happens during the call to forward.\"\"\"  \n",
    "        pass  \n",
    "  \n",
    "  \n",
    "def _unmap(data, count, inds, fill=0):  \n",
    "    \"\"\" Unmap a subset of item (data) back to the original set of items (of \n",
    "    size count) \"\"\"  \n",
    "    if len(data.shape) == 1:  \n",
    "        ret = np.empty((count, ), dtype=np.float32)  \n",
    "        ret.fill(fill)  \n",
    "        ret[inds] = data  \n",
    "    else:  \n",
    "        ret = np.empty((count, ) + data.shape[1:], dtype=np.float32)  \n",
    "        ret.fill(fill)  \n",
    "        ret[inds, :] = data  \n",
    "    return ret  \n",
    "  \n",
    "  \n",
    "def _compute_targets(ex_rois, gt_rois):  \n",
    "    \"\"\"Compute bounding-box regression targets for an image.\"\"\"  \n",
    "  \n",
    "    assert ex_rois.shape[0] == gt_rois.shape[0]  \n",
    "    assert ex_rois.shape[1] == 4  \n",
    "    assert gt_rois.shape[1] == 5  \n",
    "  \n",
    "    return bbox_transform(ex_rois, gt_rois[:, :4]).astype(np.float32, copy=False)  "
   ]
  },
  {
   "cell_type": "code",
   "execution_count": 4,
   "metadata": {
    "collapsed": true
   },
   "outputs": [],
   "source": [
    "height=50;\n",
    "width=50;\n",
    "_feat_stride=16 \n",
    "shift_x = np.arange(0, width) * _feat_stride\n",
    "shift_y = np.arange(0, height) * _feat_stride\n",
    "shift_x, shift_y = np.meshgrid(shift_x, shift_y)\n",
    "shifts = np.vstack((shift_x.ravel(), shift_y.ravel(),\n",
    "                    shift_x.ravel(), shift_y.ravel())).transpose()"
   ]
  },
  {
   "cell_type": "code",
   "execution_count": 6,
   "metadata": {
    "collapsed": false
   },
   "outputs": [],
   "source": [
    "A = _num_anchors = 9\n",
    "K = shifts.shape[0]\n",
    "_anchors = generate_anchors()\n",
    "all_anchors = (_anchors.reshape((1, A, 4)) +  \n",
    "               shifts.reshape((1, K, 4)).transpose((1, 0, 2)))  \n",
    "all_anchors = all_anchors.reshape((K * A, 4))  \n",
    "total_anchors = int(K * A)"
   ]
  },
  {
   "cell_type": "code",
   "execution_count": 9,
   "metadata": {
    "collapsed": false
   },
   "outputs": [
    {
     "data": {
      "text/plain": [
       "(22500, 4)"
      ]
     },
     "execution_count": 9,
     "metadata": {},
     "output_type": "execute_result"
    }
   ],
   "source": [
    "all_anchors.shape"
   ]
  },
  {
   "cell_type": "code",
   "execution_count": 18,
   "metadata": {
    "collapsed": false
   },
   "outputs": [
    {
     "data": {
      "text/plain": [
       "array([False, False, False, ...,  True,  True,  True], dtype=bool)"
      ]
     },
     "execution_count": 18,
     "metadata": {},
     "output_type": "execute_result"
    }
   ],
   "source": [
    "(all_anchors[:,0]>=0)"
   ]
  },
  {
   "cell_type": "code",
   "execution_count": 17,
   "metadata": {
    "collapsed": false
   },
   "outputs": [
    {
     "data": {
      "text/plain": [
       "(22500,)"
      ]
     },
     "execution_count": 17,
     "metadata": {},
     "output_type": "execute_result"
    }
   ],
   "source": [
    "(all_anchors[:,0]>=0).shape"
   ]
  },
  {
   "cell_type": "code",
   "execution_count": 25,
   "metadata": {
    "collapsed": false
   },
   "outputs": [
    {
     "data": {
      "text/plain": [
       "(array([ 1404,  1413,  1422, ..., 21069, 21078, 21087]),)"
      ]
     },
     "execution_count": 25,
     "metadata": {},
     "output_type": "execute_result"
    }
   ],
   "source": [
    "np.where((all_anchors[:,0]>=0)&(all_anchors[:,1]>=0)&(all_anchors[:,2]<800)&(all_anchors[:,3]<800))"
   ]
  },
  {
   "cell_type": "code",
   "execution_count": 27,
   "metadata": {
    "collapsed": false
   },
   "outputs": [
    {
     "data": {
      "text/plain": [
       "(9132,)"
      ]
     },
     "execution_count": 27,
     "metadata": {},
     "output_type": "execute_result"
    }
   ],
   "source": [
    "inds_inside = np.where((all_anchors[:,0]>=0)&(all_anchors[:,1]>=0)&(all_anchors[:,2]<800)&(all_anchors[:,3]<800))[0]\n",
    "inds_inside.shape"
   ]
  },
  {
   "cell_type": "code",
   "execution_count": 28,
   "metadata": {
    "collapsed": true
   },
   "outputs": [],
   "source": [
    "anchors = all_anchors[inds_inside,:]"
   ]
  },
  {
   "cell_type": "code",
   "execution_count": 29,
   "metadata": {
    "collapsed": false
   },
   "outputs": [
    {
     "data": {
      "text/plain": [
       "array([[  12.,    8.,  195.,  103.],\n",
       "       [  28.,    8.,  211.,  103.],\n",
       "       [  44.,    8.,  227.,  103.],\n",
       "       ..., \n",
       "       [ 572.,  696.,  755.,  791.],\n",
       "       [ 588.,  696.,  771.,  791.],\n",
       "       [ 604.,  696.,  787.,  791.]])"
      ]
     },
     "execution_count": 29,
     "metadata": {},
     "output_type": "execute_result"
    }
   ],
   "source": [
    "anchors"
   ]
  },
  {
   "cell_type": "code",
   "execution_count": 35,
   "metadata": {
    "collapsed": true
   },
   "outputs": [],
   "source": [
    "labels = np.empty((len(inds_inside),),dtype=np.float32)\n",
    "labels.fill(-1)"
   ]
  },
  {
   "cell_type": "code",
   "execution_count": 36,
   "metadata": {
    "collapsed": false
   },
   "outputs": [
    {
     "data": {
      "text/plain": [
       "(9132,)"
      ]
     },
     "execution_count": 36,
     "metadata": {},
     "output_type": "execute_result"
    }
   ],
   "source": [
    "labels.shape"
   ]
  },
  {
   "cell_type": "code",
   "execution_count": 37,
   "metadata": {
    "collapsed": false
   },
   "outputs": [
    {
     "data": {
      "text/plain": [
       "array([-1., -1., -1., ..., -1., -1., -1.], dtype=float32)"
      ]
     },
     "execution_count": 37,
     "metadata": {},
     "output_type": "execute_result"
    }
   ],
   "source": [
    "labels"
   ]
  },
  {
   "cell_type": "code",
   "execution_count": 48,
   "metadata": {
    "collapsed": false
   },
   "outputs": [
    {
     "data": {
      "text/plain": [
       "array([[  78.,   58.,  261.,  153.],\n",
       "       [ 542.,   74.,  725.,  169.],\n",
       "       [ 366.,  130.,  453.,  305.],\n",
       "       [ 426.,  410.,  553.,  537.]])"
      ]
     },
     "execution_count": 48,
     "metadata": {},
     "output_type": "execute_result"
    }
   ],
   "source": [
    "gt_boxes = anchors[[1,100,1000,5000],:]+50\n",
    "gt_boxes"
   ]
  },
  {
   "cell_type": "code",
   "execution_count": 93,
   "metadata": {
    "collapsed": false
   },
   "outputs": [],
   "source": [
    "#GT boxes (x1,y1,x2,y2,label)\n",
    "gt_boxes =np.array([[  78.,   58.,  261.,  153.,1],\n",
    "       [ 542.,   74.,  725.,  169.,2],\n",
    "       [ 366.,  130.,  453.,  305.,3],\n",
    "       [ 426.,  410.,  553.,  537.,4]])"
   ]
  },
  {
   "cell_type": "code",
   "execution_count": 94,
   "metadata": {
    "collapsed": false
   },
   "outputs": [
    {
     "data": {
      "text/plain": [
       "array([[  78.,   58.,  261.,  153.,    1.],\n",
       "       [ 542.,   74.,  725.,  169.,    2.],\n",
       "       [ 366.,  130.,  453.,  305.,    3.],\n",
       "       [ 426.,  410.,  553.,  537.,    4.]])"
      ]
     },
     "execution_count": 94,
     "metadata": {},
     "output_type": "execute_result"
    }
   ],
   "source": [
    "np.ascontiguousarray(gt_boxes,dtype=np.float)"
   ]
  },
  {
   "cell_type": "code",
   "execution_count": 95,
   "metadata": {
    "collapsed": false
   },
   "outputs": [],
   "source": [
    "overlaps = bbox_overlaps(anchors,gt_boxes)"
   ]
  },
  {
   "cell_type": "code",
   "execution_count": 96,
   "metadata": {
    "collapsed": false
   },
   "outputs": [
    {
     "data": {
      "text/plain": [
       "array([[ 0.18153846,  0.        ,  0.        ,  0.        ],\n",
       "       [ 0.21135647,  0.        ,  0.        ,  0.        ],\n",
       "       [ 0.24271845,  0.        ,  0.        ,  0.        ],\n",
       "       ..., \n",
       "       [ 0.        ,  0.        ,  0.        ,  0.        ],\n",
       "       [ 0.        ,  0.        ,  0.        ,  0.        ],\n",
       "       [ 0.        ,  0.        ,  0.        ,  0.        ]])"
      ]
     },
     "execution_count": 96,
     "metadata": {},
     "output_type": "execute_result"
    }
   ],
   "source": [
    "overlaps"
   ]
  },
  {
   "cell_type": "code",
   "execution_count": 97,
   "metadata": {
    "collapsed": false
   },
   "outputs": [
    {
     "data": {
      "text/plain": [
       "(9132, 4)"
      ]
     },
     "execution_count": 97,
     "metadata": {},
     "output_type": "execute_result"
    }
   ],
   "source": [
    "overlaps.shape"
   ]
  },
  {
   "cell_type": "code",
   "execution_count": 98,
   "metadata": {
    "collapsed": true
   },
   "outputs": [],
   "source": [
    "argmax_overlaps = overlaps.argmax(axis=1)"
   ]
  },
  {
   "cell_type": "code",
   "execution_count": 99,
   "metadata": {
    "collapsed": false
   },
   "outputs": [
    {
     "data": {
      "text/plain": [
       "(9132,)"
      ]
     },
     "execution_count": 99,
     "metadata": {},
     "output_type": "execute_result"
    }
   ],
   "source": [
    "argmax_overlaps.shape"
   ]
  },
  {
   "cell_type": "code",
   "execution_count": 100,
   "metadata": {
    "collapsed": false
   },
   "outputs": [
    {
     "data": {
      "text/plain": [
       "array([ 0.18153846,  0.21135647,  0.24271845, ...,  0.        ,\n",
       "        0.        ,  0.        ])"
      ]
     },
     "execution_count": 100,
     "metadata": {},
     "output_type": "execute_result"
    }
   ],
   "source": [
    "max_overlaps = overlaps[np.arange(len(inds_inside)),argmax_overlaps]\n",
    "max_overlaps"
   ]
  },
  {
   "cell_type": "code",
   "execution_count": 101,
   "metadata": {
    "collapsed": false
   },
   "outputs": [
    {
     "data": {
      "text/plain": [
       "(9132,)"
      ]
     },
     "execution_count": 101,
     "metadata": {},
     "output_type": "execute_result"
    }
   ],
   "source": [
    "max_overlaps.shape"
   ]
  },
  {
   "cell_type": "code",
   "execution_count": 102,
   "metadata": {
    "collapsed": true
   },
   "outputs": [],
   "source": [
    "gt_argmax_overlaps = overlaps.argmax(axis=0)"
   ]
  },
  {
   "cell_type": "code",
   "execution_count": 103,
   "metadata": {
    "collapsed": false
   },
   "outputs": [
    {
     "data": {
      "text/plain": [
       "array([ 259,  526, 1680, 5805])"
      ]
     },
     "execution_count": 103,
     "metadata": {},
     "output_type": "execute_result"
    }
   ],
   "source": [
    "gt_argmax_overlaps"
   ]
  },
  {
   "cell_type": "code",
   "execution_count": 104,
   "metadata": {
    "collapsed": false
   },
   "outputs": [],
   "source": [
    "gt_max_overlaps = overlaps[gt_argmax_overlaps,\n",
    "                          np.arange(overlaps.shape[1])]"
   ]
  },
  {
   "cell_type": "code",
   "execution_count": 105,
   "metadata": {
    "collapsed": false
   },
   "outputs": [
    {
     "data": {
      "text/plain": [
       "array([ 0.93896817,  0.93896817,  0.93454909,  0.93985318])"
      ]
     },
     "execution_count": 105,
     "metadata": {},
     "output_type": "execute_result"
    }
   ],
   "source": [
    "gt_max_overlaps"
   ]
  },
  {
   "cell_type": "code",
   "execution_count": 106,
   "metadata": {
    "collapsed": false
   },
   "outputs": [
    {
     "data": {
      "text/plain": [
       "array([[False, False, False, False],\n",
       "       [False, False, False, False],\n",
       "       [False, False, False, False],\n",
       "       ..., \n",
       "       [False, False, False, False],\n",
       "       [False, False, False, False],\n",
       "       [False, False, False, False]], dtype=bool)"
      ]
     },
     "execution_count": 106,
     "metadata": {},
     "output_type": "execute_result"
    }
   ],
   "source": [
    "overlaps==gt_max_overlaps"
   ]
  },
  {
   "cell_type": "code",
   "execution_count": 107,
   "metadata": {
    "collapsed": false
   },
   "outputs": [
    {
     "data": {
      "text/plain": [
       "(9132, 4)"
      ]
     },
     "execution_count": 107,
     "metadata": {},
     "output_type": "execute_result"
    }
   ],
   "source": [
    "(overlaps==gt_max_overlaps).shape"
   ]
  },
  {
   "cell_type": "code",
   "execution_count": 108,
   "metadata": {
    "collapsed": false
   },
   "outputs": [],
   "source": [
    "a = np.array([[1,2,3],\n",
    "              [4,5,6]])\n",
    "b = np.array([4,2,6])"
   ]
  },
  {
   "cell_type": "code",
   "execution_count": 109,
   "metadata": {
    "collapsed": false
   },
   "outputs": [
    {
     "data": {
      "text/plain": [
       "array([[False,  True, False],\n",
       "       [ True, False,  True]], dtype=bool)"
      ]
     },
     "execution_count": 109,
     "metadata": {},
     "output_type": "execute_result"
    }
   ],
   "source": [
    "a==b"
   ]
  },
  {
   "cell_type": "code",
   "execution_count": 110,
   "metadata": {
    "collapsed": true
   },
   "outputs": [],
   "source": [
    "a = np.array([[1,2,3],\n",
    "              [4,5,6]])\n",
    "b = np.array([[2],[6]])"
   ]
  },
  {
   "cell_type": "code",
   "execution_count": 111,
   "metadata": {
    "collapsed": false
   },
   "outputs": [
    {
     "data": {
      "text/plain": [
       "array([[False,  True, False],\n",
       "       [False, False,  True]], dtype=bool)"
      ]
     },
     "execution_count": 111,
     "metadata": {},
     "output_type": "execute_result"
    }
   ],
   "source": [
    "a==b"
   ]
  },
  {
   "cell_type": "code",
   "execution_count": 112,
   "metadata": {
    "collapsed": false
   },
   "outputs": [
    {
     "data": {
      "text/plain": [
       "array([ 259,  526, 1680, 5805])"
      ]
     },
     "execution_count": 112,
     "metadata": {},
     "output_type": "execute_result"
    }
   ],
   "source": [
    "np.where(overlaps==gt_max_overlaps)[0]"
   ]
  },
  {
   "cell_type": "code",
   "execution_count": 113,
   "metadata": {
    "collapsed": true
   },
   "outputs": [],
   "source": [
    "gt_argmax_overlap = np.where(overlaps == gt_max_overlaps)[0]"
   ]
  },
  {
   "cell_type": "code",
   "execution_count": 114,
   "metadata": {
    "collapsed": true
   },
   "outputs": [],
   "source": [
    "        if not cfg.TRAIN.RPN_CLOBBER_POSITIVES:  \n",
    "            # assign bg labels first so that positive labels can clobber them  \n",
    "            labels[max_overlaps < cfg.TRAIN.RPN_NEGATIVE_OVERLAP] = 0  \n",
    "  \n",
    "        # fg label: for each gt, anchor with highest overlap  \n",
    "        labels[gt_argmax_overlaps] = 1  \n",
    "  \n",
    "        # fg label: above threshold IOU  \n",
    "        labels[max_overlaps >= cfg.TRAIN.RPN_POSITIVE_OVERLAP] = 1  \n",
    "  \n",
    "        if cfg.TRAIN.RPN_CLOBBER_POSITIVES:  \n",
    "            # assign bg labels last so that negative labels can clobber positives  \n",
    "            labels[max_overlaps < cfg.TRAIN.RPN_NEGATIVE_OVERLAP] = 0  \n",
    "  \n",
    "        # subsample positive labels if we have too many  \n",
    "        num_fg = int(cfg.TRAIN.RPN_FG_FRACTION * cfg.TRAIN.RPN_BATCHSIZE)  \n",
    "        fg_inds = np.where(labels == 1)[0]  \n",
    "        if len(fg_inds) > num_fg:  \n",
    "            disable_inds = npr.choice(  \n",
    "                fg_inds, size=(len(fg_inds) - num_fg), replace=False)  \n",
    "            labels[disable_inds] = -1  \n",
    "  \n",
    "        # subsample negative labels if we have too many  \n",
    "        num_bg = cfg.TRAIN.RPN_BATCHSIZE - np.sum(labels == 1)  \n",
    "        bg_inds = np.where(labels == 0)[0]  \n",
    "        if len(bg_inds) > num_bg:  \n",
    "            disable_inds = npr.choice(  \n",
    "                bg_inds, size=(len(bg_inds) - num_bg), replace=False)  \n",
    "            labels[disable_inds] = -1  \n",
    "            #print \"was %s inds, disabling %s, now %s inds\" % (  \n",
    "                #len(bg_inds), len(disable_inds), np.sum(labels == 0))  "
   ]
  },
  {
   "cell_type": "code",
   "execution_count": 115,
   "metadata": {
    "collapsed": false
   },
   "outputs": [],
   "source": [
    "        bbox_targets = np.zeros((len(inds_inside), 4), dtype=np.float32)  \n",
    "        bbox_targets = _compute_targets(anchors, gt_boxes[argmax_overlaps, :])  "
   ]
  },
  {
   "cell_type": "code",
   "execution_count": 116,
   "metadata": {
    "collapsed": false
   },
   "outputs": [
    {
     "data": {
      "text/plain": [
       "array([0, 0, 0, ..., 0, 0, 0])"
      ]
     },
     "execution_count": 116,
     "metadata": {},
     "output_type": "execute_result"
    }
   ],
   "source": [
    "argmax_overlaps"
   ]
  },
  {
   "cell_type": "code",
   "execution_count": 117,
   "metadata": {
    "collapsed": false
   },
   "outputs": [
    {
     "data": {
      "text/plain": [
       "array([[  78.,   58.,  261.,  153.,    1.],\n",
       "       [ 542.,   74.,  725.,  169.,    2.],\n",
       "       [ 366.,  130.,  453.,  305.,    3.],\n",
       "       [ 426.,  410.,  553.,  537.,    4.]])"
      ]
     },
     "execution_count": 117,
     "metadata": {},
     "output_type": "execute_result"
    }
   ],
   "source": [
    "gt_boxes"
   ]
  },
  {
   "cell_type": "code",
   "execution_count": 120,
   "metadata": {
    "collapsed": false
   },
   "outputs": [
    {
     "data": {
      "text/plain": [
       "array([[  78.,   58.,  261.,  153.,    1.],\n",
       "       [  78.,   58.,  261.,  153.,    1.],\n",
       "       [  78.,   58.,  261.,  153.,    1.],\n",
       "       ..., \n",
       "       [  78.,   58.,  261.,  153.,    1.],\n",
       "       [  78.,   58.,  261.,  153.,    1.],\n",
       "       [  78.,   58.,  261.,  153.,    1.]])"
      ]
     },
     "execution_count": 120,
     "metadata": {},
     "output_type": "execute_result"
    }
   ],
   "source": [
    "gt_boxes[argmax_overlaps, :]"
   ]
  },
  {
   "cell_type": "code",
   "execution_count": 121,
   "metadata": {
    "collapsed": false
   },
   "outputs": [
    {
     "data": {
      "text/plain": [
       "(9132, 5)"
      ]
     },
     "execution_count": 121,
     "metadata": {},
     "output_type": "execute_result"
    }
   ],
   "source": [
    "(gt_boxes[argmax_overlaps, :]).shape"
   ]
  },
  {
   "cell_type": "code",
   "execution_count": 122,
   "metadata": {
    "collapsed": false
   },
   "outputs": [
    {
     "data": {
      "text/plain": [
       "(9132, 4)"
      ]
     },
     "execution_count": 122,
     "metadata": {},
     "output_type": "execute_result"
    }
   ],
   "source": [
    "anchors.shape"
   ]
  },
  {
   "cell_type": "code",
   "execution_count": 119,
   "metadata": {
    "collapsed": false
   },
   "outputs": [
    {
     "data": {
      "text/plain": [
       "(9132, 4)"
      ]
     },
     "execution_count": 119,
     "metadata": {},
     "output_type": "execute_result"
    }
   ],
   "source": [
    "bbox_targets.shape"
   ]
  },
  {
   "cell_type": "code",
   "execution_count": 127,
   "metadata": {
    "collapsed": false
   },
   "outputs": [
    {
     "name": "stdout",
     "output_type": "stream",
     "text": [
      "[[ 0.27173913  0.52083331  0.          0.        ]\n",
      " [ 0.390625    0.390625    0.3629055  -0.28768209]\n",
      " [ 0.18478261  0.52083331  0.          0.        ]\n",
      " [ 0.265625    0.390625    0.3629055  -0.28768209]\n",
      " [ 0.09782609  0.52083331  0.          0.        ]\n",
      " [ 0.140625    0.390625    0.3629055  -0.28768209]\n",
      " [ 0.01086957  0.52083331  0.          0.        ]\n",
      " [ 0.015625    0.390625    0.3629055  -0.28768209]\n",
      " [-0.07608695  0.52083331  0.          0.        ]\n",
      " [-0.109375    0.390625    0.3629055  -0.28768209]]\n"
     ]
    }
   ],
   "source": [
    "print(bbox_targets[100:110,:])"
   ]
  },
  {
   "cell_type": "code",
   "execution_count": 123,
   "metadata": {
    "collapsed": false
   },
   "outputs": [
    {
     "data": {
      "text/plain": [
       "(9132, 4)"
      ]
     },
     "execution_count": 123,
     "metadata": {},
     "output_type": "execute_result"
    }
   ],
   "source": [
    "bbox_targets.shape"
   ]
  },
  {
   "cell_type": "code",
   "execution_count": 124,
   "metadata": {
    "collapsed": true
   },
   "outputs": [],
   "source": [
    "import numpy as np\n",
    "\n",
    "def bbox_transform(ex_rois, gt_rois):\n",
    "    ex_widths = ex_rois[:, 2] - ex_rois[:, 0] + 1.0#width\n",
    "    ex_heights = ex_rois[:, 3] - ex_rois[:, 1] + 1.0#height\n",
    "    ex_ctr_x = ex_rois[:, 0] + 0.5 * ex_widths#x_center\n",
    "    ex_ctr_y = ex_rois[:, 1] + 0.5 * ex_heights#y_center\n",
    "\n",
    "    gt_widths = gt_rois[:, 2] - gt_rois[:, 0] + 1.0#gt_width\n",
    "    gt_heights = gt_rois[:, 3] - gt_rois[:, 1] + 1.0#gt_height\n",
    "    gt_ctr_x = gt_rois[:, 0] + 0.5 * gt_widths#gt_x_cebter\n",
    "    gt_ctr_y = gt_rois[:, 1] + 0.5 * gt_heights#gt_y_center\n",
    "\n",
    "    targets_dx = (gt_ctr_x - ex_ctr_x) / ex_widths#dx=(gt_cx-anchor_cx)/anchor_w\n",
    "    targets_dy = (gt_ctr_y - ex_ctr_y) / ex_heights#dy=(gt_cy-anchor_cy)/anchor_h\n",
    "    targets_dw = np.log(gt_widths / ex_widths)#log(gt_w/anchor_w)\n",
    "    targets_dh = np.log(gt_heights / ex_heights)#log(gt_h/anchor_h)\n",
    "\n",
    "    targets = np.vstack(\n",
    "        (targets_dx, targets_dy, targets_dw, targets_dh)).transpose()\n",
    "    return targets\n",
    "\n",
    "def bbox_transform_inv(boxes, deltas):#上一个函数的逆运算，由delta值和对应的anchor计算出box坐标\n",
    "    if boxes.shape[0] == 0:\n",
    "        return np.zeros((0, deltas.shape[1]), dtype=deltas.dtype)\n",
    "\n",
    "    boxes = boxes.astype(deltas.dtype, copy=False)\n",
    "\n",
    "    widths = boxes[:, 2] - boxes[:, 0] + 1.0#anchor_w\n",
    "    heights = boxes[:, 3] - boxes[:, 1] + 1.0#anchor_h\n",
    "    ctr_x = boxes[:, 0] + 0.5 * widths#anchor_cx\n",
    "    ctr_y = boxes[:, 1] + 0.5 * heights#anchor_cy\n",
    "\n",
    "    dx = deltas[:, 0::4]\n",
    "    dy = deltas[:, 1::4]\n",
    "    dw = deltas[:, 2::4]\n",
    "    dh = deltas[:, 3::4]\n",
    "\n",
    "    pred_ctr_x = dx * widths[:, np.newaxis] + ctr_x[:, np.newaxis]#dx*anchor_w+anchor_cx\n",
    "    pred_ctr_y = dy * heights[:, np.newaxis] + ctr_y[:, np.newaxis]#dy*abchor_h+anchor_cy\n",
    "    pred_w = np.exp(dw) * widths[:, np.newaxis]#exp(dw)*anchor_w\n",
    "    pred_h = np.exp(dh) * heights[:, np.newaxis]#exp(dh)*anchor_h\n",
    "\n",
    "    pred_boxes = np.zeros(deltas.shape, dtype=deltas.dtype)#下面是由预测框的中心和长宽还原成左上右下坐标\n",
    "    # x1\n",
    "    pred_boxes[:, 0::4] = pred_ctr_x - 0.5 * pred_w\n",
    "    # y1\n",
    "    pred_boxes[:, 1::4] = pred_ctr_y - 0.5 * pred_h\n",
    "    # x2\n",
    "    pred_boxes[:, 2::4] = pred_ctr_x + 0.5 * pred_w\n",
    "    # y2\n",
    "    pred_boxes[:, 3::4] = pred_ctr_y + 0.5 * pred_h\n",
    "\n",
    "    return pred_boxes\n",
    "\n",
    "def clip_boxes(boxes, im_shape):\n",
    "    \"\"\"\n",
    "    Clip boxes to image boundaries.\n",
    "    \"\"\"\n",
    "\n",
    "    # x1 >= 0\n",
    "    boxes[:, 0::4] = np.maximum(np.minimum(boxes[:, 0::4], im_shape[1] - 1), 0)\n",
    "    # y1 >= 0\n",
    "    boxes[:, 1::4] = np.maximum(np.minimum(boxes[:, 1::4], im_shape[0] - 1), 0)\n",
    "    # x2 < im_shape[1]\n",
    "    boxes[:, 2::4] = np.maximum(np.minimum(boxes[:, 2::4], im_shape[1] - 1), 0)\n",
    "    # y2 < im_shape[0]\n",
    "    boxes[:, 3::4] = np.maximum(np.minimum(boxes[:, 3::4], im_shape[0] - 1), 0)\n",
    "    return boxes"
   ]
  },
  {
   "cell_type": "code",
   "execution_count": 128,
   "metadata": {
    "collapsed": true
   },
   "outputs": [],
   "source": [
    "ex_rois = anchors\n",
    "gt_rois = gt_boxes[argmax_overlaps,:4]"
   ]
  },
  {
   "cell_type": "code",
   "execution_count": 130,
   "metadata": {
    "collapsed": false
   },
   "outputs": [],
   "source": [
    "    ex_widths = ex_rois[:, 2] - ex_rois[:, 0] + 1.0#width\n",
    "    ex_heights = ex_rois[:, 3] - ex_rois[:, 1] + 1.0#height\n",
    "    ex_ctr_x = ex_rois[:, 0] + 0.5 * ex_widths#x_center\n",
    "    ex_ctr_y = ex_rois[:, 1] + 0.5 * ex_heights#y_center\n",
    "\n",
    "    gt_widths = gt_rois[:, 2] - gt_rois[:, 0] + 1.0#gt_width\n",
    "    gt_heights = gt_rois[:, 3] - gt_rois[:, 1] + 1.0#gt_height\n",
    "    gt_ctr_x = gt_rois[:, 0] + 0.5 * gt_widths#gt_x_cebter\n",
    "    gt_ctr_y = gt_rois[:, 1] + 0.5 * gt_heights#gt_y_center\n",
    "\n",
    "    targets_dx = (gt_ctr_x - ex_ctr_x) / ex_widths#dx=(gt_cx-anchor_cx)/anchor_w\n",
    "    targets_dy = (gt_ctr_y - ex_ctr_y) / ex_heights#dy=(gt_cy-anchor_cy)/anchor_h\n",
    "    targets_dw = np.log(gt_widths / ex_widths)#log(gt_w/anchor_w)\n",
    "    targets_dh = np.log(gt_heights / ex_heights)#log(gt_h/anchor_h)\n",
    "\n",
    "    targets = np.vstack(\n",
    "        (targets_dx, targets_dy, targets_dw, targets_dh)).transpose()"
   ]
  },
  {
   "cell_type": "code",
   "execution_count": 144,
   "metadata": {
    "collapsed": false
   },
   "outputs": [
    {
     "data": {
      "text/plain": [
       "(array([[ 492.,   24.,  675.,  119.],\n",
       "        [ 520.,    8.,  647.,  135.],\n",
       "        [ 508.,   24.,  691.,  119.],\n",
       "        [ 536.,    8.,  663.,  135.],\n",
       "        [ 524.,   24.,  707.,  119.],\n",
       "        [ 552.,    8.,  679.,  135.],\n",
       "        [ 540.,   24.,  723.,  119.],\n",
       "        [ 568.,    8.,  695.,  135.],\n",
       "        [ 556.,   24.,  739.,  119.],\n",
       "        [ 584.,    8.,  711.,  135.]]),\n",
       " array([ 184.,  128.,  184.,  128.,  184.,  128.,  184.,  128.,  184.,  128.]),\n",
       " array([  96.,  128.,   96.,  128.,   96.,  128.,   96.,  128.,   96.,  128.]))"
      ]
     },
     "execution_count": 144,
     "metadata": {},
     "output_type": "execute_result"
    }
   ],
   "source": [
    "ex_rois[100:110,:],ex_widths[100:110],ex_heights[100:110]"
   ]
  },
  {
   "cell_type": "code",
   "execution_count": 143,
   "metadata": {
    "collapsed": false
   },
   "outputs": [
    {
     "data": {
      "text/plain": [
       "(array([[ 542.,   74.,  725.,  169.],\n",
       "        [ 542.,   74.,  725.,  169.],\n",
       "        [ 542.,   74.,  725.,  169.],\n",
       "        [ 542.,   74.,  725.,  169.],\n",
       "        [ 542.,   74.,  725.,  169.],\n",
       "        [ 542.,   74.,  725.,  169.],\n",
       "        [ 542.,   74.,  725.,  169.],\n",
       "        [ 542.,   74.,  725.,  169.],\n",
       "        [ 542.,   74.,  725.,  169.],\n",
       "        [ 542.,   74.,  725.,  169.]]),\n",
       " array([ 184.,  184.,  184.,  184.,  184.,  184.,  184.,  184.,  184.,  184.]),\n",
       " array([ 96.,  96.,  96.,  96.,  96.,  96.,  96.,  96.,  96.,  96.]))"
      ]
     },
     "execution_count": 143,
     "metadata": {},
     "output_type": "execute_result"
    }
   ],
   "source": [
    "gt_rois[100:110,:],gt_widths[100:110],gt_heights[100:110]"
   ]
  },
  {
   "cell_type": "code",
   "execution_count": 146,
   "metadata": {
    "collapsed": false
   },
   "outputs": [
    {
     "data": {
      "text/plain": [
       "array([ 1.    ,  1.4375,  1.    ,  1.4375,  1.    ,  1.4375,  1.    ,\n",
       "        1.4375,  1.    ,  1.4375])"
      ]
     },
     "execution_count": 146,
     "metadata": {},
     "output_type": "execute_result"
    }
   ],
   "source": [
    "gt_widths[100:110]/ex_widths[100:110]"
   ]
  },
  {
   "cell_type": "code",
   "execution_count": 147,
   "metadata": {
    "collapsed": false
   },
   "outputs": [
    {
     "data": {
      "text/plain": [
       "array([ 0.        ,  0.36290549,  0.        ,  0.36290549,  0.        ,\n",
       "        0.36290549,  0.        ,  0.36290549,  0.        ,  0.36290549])"
      ]
     },
     "execution_count": 147,
     "metadata": {},
     "output_type": "execute_result"
    }
   ],
   "source": [
    "np.log(gt_widths[100:110]/ex_widths[100:110])"
   ]
  },
  {
   "cell_type": "code",
   "execution_count": 132,
   "metadata": {
    "collapsed": false
   },
   "outputs": [
    {
     "data": {
      "text/plain": [
       "(9132,)"
      ]
     },
     "execution_count": 132,
     "metadata": {},
     "output_type": "execute_result"
    }
   ],
   "source": [
    "targets_dx.shape"
   ]
  },
  {
   "cell_type": "code",
   "execution_count": 136,
   "metadata": {
    "collapsed": false
   },
   "outputs": [
    {
     "data": {
      "text/plain": [
       "array([[ 0.27173913,  0.52083333,  0.        ,  0.        ],\n",
       "       [ 0.390625  ,  0.390625  ,  0.36290549, -0.28768207],\n",
       "       [ 0.18478261,  0.52083333,  0.        ,  0.        ],\n",
       "       [ 0.265625  ,  0.390625  ,  0.36290549, -0.28768207],\n",
       "       [ 0.09782609,  0.52083333,  0.        ,  0.        ],\n",
       "       [ 0.140625  ,  0.390625  ,  0.36290549, -0.28768207],\n",
       "       [ 0.01086957,  0.52083333,  0.        ,  0.        ],\n",
       "       [ 0.015625  ,  0.390625  ,  0.36290549, -0.28768207],\n",
       "       [-0.07608696,  0.52083333,  0.        ,  0.        ],\n",
       "       [-0.109375  ,  0.390625  ,  0.36290549, -0.28768207]])"
      ]
     },
     "execution_count": 136,
     "metadata": {},
     "output_type": "execute_result"
    }
   ],
   "source": [
    "targets[100:110]"
   ]
  },
  {
   "cell_type": "code",
   "execution_count": 148,
   "metadata": {
    "collapsed": false
   },
   "outputs": [
    {
     "data": {
      "text/plain": [
       "array([[1, 2],\n",
       "       [3, 4]])"
      ]
     },
     "execution_count": 148,
     "metadata": {},
     "output_type": "execute_result"
    }
   ],
   "source": [
    "np.vstack(([1,2],[3,4]))"
   ]
  },
  {
   "cell_type": "code",
   "execution_count": 149,
   "metadata": {
    "collapsed": false
   },
   "outputs": [
    {
     "data": {
      "text/plain": [
       "array([[1, 3],\n",
       "       [2, 4]])"
      ]
     },
     "execution_count": 149,
     "metadata": {},
     "output_type": "execute_result"
    }
   ],
   "source": [
    "np.vstack(([1,2],[3,4])).transpose()"
   ]
  },
  {
   "cell_type": "code",
   "execution_count": 152,
   "metadata": {
    "collapsed": false
   },
   "outputs": [
    {
     "data": {
      "text/plain": [
       "(9132,)"
      ]
     },
     "execution_count": 152,
     "metadata": {},
     "output_type": "execute_result"
    }
   ],
   "source": [
    "labels.shape"
   ]
  },
  {
   "cell_type": "code",
   "execution_count": 153,
   "metadata": {
    "collapsed": false
   },
   "outputs": [
    {
     "data": {
      "text/plain": [
       "22500"
      ]
     },
     "execution_count": 153,
     "metadata": {},
     "output_type": "execute_result"
    }
   ],
   "source": [
    "total_anchors"
   ]
  },
  {
   "cell_type": "code",
   "execution_count": 155,
   "metadata": {
    "collapsed": false
   },
   "outputs": [
    {
     "data": {
      "text/plain": [
       "(9132,)"
      ]
     },
     "execution_count": 155,
     "metadata": {},
     "output_type": "execute_result"
    }
   ],
   "source": [
    "inds_inside.shape"
   ]
  },
  {
   "cell_type": "code",
   "execution_count": 156,
   "metadata": {
    "collapsed": true
   },
   "outputs": [],
   "source": [
    "def _unmap(data, count, inds, fill=0):  \n",
    "    \"\"\" Unmap a subset of item (data) back to the original set of items (of \n",
    "    size count) \"\"\"  \n",
    "    if len(data.shape) == 1:  \n",
    "        ret = np.empty((count, ), dtype=np.float32)  \n",
    "        ret.fill(fill)  \n",
    "        ret[inds] = data  \n",
    "    else:  \n",
    "        ret = np.empty((count, ) + data.shape[1:], dtype=np.float32)  \n",
    "        ret.fill(fill)  \n",
    "        ret[inds, :] = data  \n",
    "    return ret "
   ]
  },
  {
   "cell_type": "code",
   "execution_count": 157,
   "metadata": {
    "collapsed": true
   },
   "outputs": [],
   "source": [
    "labels = _unmap(labels, total_anchors, inds_inside, fill=-1)"
   ]
  },
  {
   "cell_type": "code",
   "execution_count": 159,
   "metadata": {
    "collapsed": false
   },
   "outputs": [
    {
     "data": {
      "text/plain": [
       "(22500,)"
      ]
     },
     "execution_count": 159,
     "metadata": {},
     "output_type": "execute_result"
    }
   ],
   "source": [
    "labels.shape"
   ]
  },
  {
   "cell_type": "code",
   "execution_count": 163,
   "metadata": {
    "collapsed": false
   },
   "outputs": [
    {
     "data": {
      "text/plain": [
       "(22500,)"
      ]
     },
     "execution_count": 163,
     "metadata": {},
     "output_type": "execute_result"
    }
   ],
   "source": [
    "(total_anchors,)+labels.shape[1:]"
   ]
  },
  {
   "cell_type": "code",
   "execution_count": 164,
   "metadata": {
    "collapsed": false
   },
   "outputs": [
    {
     "data": {
      "text/plain": [
       "(22500, 4)"
      ]
     },
     "execution_count": 164,
     "metadata": {},
     "output_type": "execute_result"
    }
   ],
   "source": [
    "(total_anchors,)+bbox_targets.shape[1:]"
   ]
  },
  {
   "cell_type": "code",
   "execution_count": 165,
   "metadata": {
    "collapsed": false
   },
   "outputs": [
    {
     "data": {
      "text/plain": [
       "(4,)"
      ]
     },
     "execution_count": 165,
     "metadata": {},
     "output_type": "execute_result"
    }
   ],
   "source": [
    "bbox_targets.shape[1:]"
   ]
  },
  {
   "cell_type": "code",
   "execution_count": 166,
   "metadata": {
    "collapsed": false
   },
   "outputs": [
    {
     "data": {
      "text/plain": [
       "(22500, 4)"
      ]
     },
     "execution_count": 166,
     "metadata": {},
     "output_type": "execute_result"
    }
   ],
   "source": [
    "(22500,)+(4,)"
   ]
  }
 ],
 "metadata": {
  "kernelspec": {
   "display_name": "Python 2",
   "language": "python",
   "name": "python2"
  },
  "language_info": {
   "codemirror_mode": {
    "name": "ipython",
    "version": 2
   },
   "file_extension": ".py",
   "mimetype": "text/x-python",
   "name": "python",
   "nbconvert_exporter": "python",
   "pygments_lexer": "ipython2",
   "version": "2.7.13"
  }
 },
 "nbformat": 4,
 "nbformat_minor": 2
}
